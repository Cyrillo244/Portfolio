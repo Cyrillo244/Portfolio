{
 "cells": [
  {
   "cell_type": "markdown",
   "id": "a42be1ec",
   "metadata": {},
   "source": [
    "# CHATBOT PROJECT "
   ]
  },
  {
   "cell_type": "markdown",
   "id": "9920be81",
   "metadata": {},
   "source": [
    "# Start date : Friday 8th November 2024"
   ]
  },
  {
   "cell_type": "code",
   "execution_count": null,
   "id": "07d8b571",
   "metadata": {},
   "outputs": [],
   "source": [
    "import zipfile \n",
    "import os "
   ]
  },
  {
   "cell_type": "code",
   "execution_count": null,
   "id": "392960af",
   "metadata": {},
   "outputs": [],
   "source": [
    "import os \n",
    "\n",
    "# print the current directory\n",
    "print(os.getcwd())"
   ]
  },
  {
   "cell_type": "code",
   "execution_count": null,
   "id": "a2f1ce17",
   "metadata": {},
   "outputs": [],
   "source": [
    "print(os.getcwd())"
   ]
  },
  {
   "cell_type": "code",
   "execution_count": null,
   "id": "40518d78",
   "metadata": {},
   "outputs": [],
   "source": [
    "print(os.listdir())"
   ]
  },
  {
   "cell_type": "code",
   "execution_count": null,
   "id": "21144be9",
   "metadata": {},
   "outputs": [],
   "source": [
    "print(os.listdir())"
   ]
  },
  {
   "cell_type": "code",
   "execution_count": null,
   "id": "c9abba59",
   "metadata": {},
   "outputs": [],
   "source": []
  },
  {
   "cell_type": "code",
   "execution_count": null,
   "id": "3fec8bf3",
   "metadata": {},
   "outputs": [],
   "source": [
    "import zipfile\n",
    "import os \n",
    "\n",
    "# Unzip the file to the current directory \n",
    "with zipfile.ZipFile(\"20000-Utterances-Training-dataset-for-chatbots-virtual-assistant-Bitext-sample.zip\", 'r') as zip_ref:\n",
    "    zip_ref.extractall(\".\")\n",
    "    print(\"Files extracted to the current directory.\")"
   ]
  },
  {
   "cell_type": "code",
   "execution_count": null,
   "id": "1718755b",
   "metadata": {},
   "outputs": [],
   "source": []
  },
  {
   "cell_type": "markdown",
   "id": "70edec27",
   "metadata": {},
   "source": [
    "# Training Dataset for chatbots/Virtual Assistants"
   ]
  },
  {
   "cell_type": "markdown",
   "id": "b1dbc654",
   "metadata": {},
   "source": [
    "*Training your customer service chatbot*"
   ]
  },
  {
   "cell_type": "code",
   "execution_count": null,
   "id": "728b0ead",
   "metadata": {},
   "outputs": [],
   "source": []
  },
  {
   "cell_type": "markdown",
   "id": "95da734f",
   "metadata": {},
   "source": [
    "# About Dataset"
   ]
  },
  {
   "cell_type": "markdown",
   "id": "7603d382",
   "metadata": {},
   "source": [
    "# Bitext Sample Pre-built Customer Support Dataset for English"
   ]
  },
  {
   "cell_type": "code",
   "execution_count": null,
   "id": "c5967870",
   "metadata": {},
   "outputs": [],
   "source": []
  },
  {
   "cell_type": "markdown",
   "id": "cd9623b8",
   "metadata": {},
   "source": [
    "# Overview\n",
    "\n",
    "This dataset contains example utterances and their corresponding intents from the Customer Support domain. The data can be used to train \n",
    "intent recognition models Natural Language Understanding (NLU) platforms.\n",
    "\n",
    "\n",
    "The dataset covers the \"Customer Support\" domain and includes 27 intents grouped in 11 categories. These intents have been selected from \n",
    "Bitext's collection of 20 domain-specific datasets (banking, retail, utilities…), keeping the intents that are common across domains. See below \n",
    "for a full list of categories and intents."
   ]
  },
  {
   "cell_type": "code",
   "execution_count": null,
   "id": "6a974ff6",
   "metadata": {},
   "outputs": [],
   "source": []
  },
  {
   "cell_type": "markdown",
   "id": "f7edacf8",
   "metadata": {},
   "source": [
    "# Utterances"
   ]
  },
  {
   "cell_type": "markdown",
   "id": "536bd2a8",
   "metadata": {},
   "source": [
    "The dataset contains over 20,000 utterances, with a varying number of utterances per intent. These utterances have been extracted from a \n",
    "larger dataset of 288,000 utterances (approx. 10,000 per intent), including language register variations such as politeness, colloquial, swearing, \n",
    "indirect style… To select the utterances, we use stratified sampling to generate a dataset with a general user language register profile.\n",
    "\n",
    "\n",
    "\n",
    "The dataset also reflects commonly ocurring linguistic phenomena of real-life chatbots, such as:\n",
    "    \n",
    "- spelling mistakes\n",
    "\n",
    "\n",
    "- run-on words\n",
    "\n",
    "\n",
    "- missing punctuation"
   ]
  },
  {
   "cell_type": "markdown",
   "id": "82626a45",
   "metadata": {},
   "source": [
    "# Contents\n",
    "\n",
    "\n",
    "Each entry in the dataset contains an example utterance from the Customer Support domain, along with its corresponding intent, category and \n",
    "additional linguistic information. Each line contains the following four fields:\n",
    "\n",
    "\n",
    "    \n",
    "- flags: the applicable linguistic flags\n",
    "\n",
    "- utterance: an example user utterance\n",
    "\n",
    "- category: the high-level intent category\n",
    "\n",
    "- intent: the intent corresponding to the user utterance\n",
    "\n"
   ]
  },
  {
   "cell_type": "code",
   "execution_count": null,
   "id": "e866142c",
   "metadata": {},
   "outputs": [],
   "source": []
  },
  {
   "cell_type": "markdown",
   "id": "7491774a",
   "metadata": {},
   "source": [
    "# Linguistic flags\n",
    "\n",
    "\n",
    "The dataset contains annotations for linguistic phenomena, which can be used to adapt bot training to different user language profiles.\n",
    "These flags are:\n",
    "\n",
    "\n",
    "B - Basic syntactic structure\n",
    "\n",
    "\n",
    "S - Syntactic structure\n",
    "\n",
    "\n",
    "L - Lexical variation (synonyms)\n",
    "\n",
    "\n",
    "M - Morphological variation (plurals, tenses…)\n",
    "\n",
    "\n",
    "I - Interrogative structure\n",
    "\n",
    "C - Complex/Coordinated syntactic structure\n",
    "\n",
    "P - Politeness variation\n",
    "\n",
    "Q - Colloquial variation\n",
    "\n",
    "W - Offensive language\n",
    "\n",
    "E - Expanded abbreviations (I'm -> I am, I'd -> I would…)\n",
    "\n",
    "D - Indirect speech (ask an agent to…)\n",
    "\n",
    "Z - Noise (spelling, punctuation…)\n",
    "\n",
    "These phenomena make the training dataset more effective and make bots more accurate and robust."
   ]
  },
  {
   "cell_type": "code",
   "execution_count": null,
   "id": "585af9eb",
   "metadata": {},
   "outputs": [],
   "source": []
  },
  {
   "cell_type": "markdown",
   "id": "51bd10ee",
   "metadata": {},
   "source": [
    "# Categories and Intents\n",
    "\n",
    "\n",
    "The intent categories covered by the dataset are:\n",
    "\n",
    "\n",
    "ACCOUNT\n",
    "\n",
    "\n",
    "CANCELLATION_FEE\n",
    "\n",
    "\n",
    "CONTACT\n",
    "\n",
    "\n",
    "DELIVERY\n",
    "\n",
    "FEEDBACK\n",
    "\n",
    "INVOICES\n",
    "\n",
    "NEWSLETTER\n",
    "\n",
    "ORDER\n",
    "\n",
    "PAYMENT\n",
    "\n",
    "REFUNDS\n",
    "\n",
    "SHIPPING\n",
    "\n",
    "# The intents covered by the dataset are:\n",
    "\n",
    "\n",
    "cancel_order\n",
    "\n",
    "\n",
    "complaint\n",
    "\n",
    "\n",
    "contact_customer_service\n",
    "\n",
    "\n",
    "contact_human_agent\n",
    "\n",
    "\n",
    "create_account\n",
    "\n",
    "\n",
    "change_order\n",
    "\n",
    "change_shipping_address\n",
    "\n",
    "check_cancellation_fee\n",
    "\n",
    "check_invoices\n",
    "\n",
    "check_payment_methods\n",
    "\n",
    "check_refund_policy\n",
    "\n",
    "delete_account\n",
    "\n",
    "delivery_options\n",
    "\n",
    "delivery_period\n",
    "\n",
    "edit_account\n",
    "\n",
    "get_invoice\n",
    "\n",
    "get_refund\n",
    "\n",
    "newsletter_subscription\n",
    "\n",
    "payment_issue\n",
    "\n",
    "place_order\n",
    "\n",
    "recover_password\n",
    "\n",
    "registration_problems\n",
    "\n",
    "review\n",
    "\n",
    "set_up_shipping_address\n",
    "\n",
    "switch_account\n",
    "\n",
    "track_order\n",
    "\n",
    "track_refund\n",
    "\n",
    "(c) Bitext Innovations, 2020"
   ]
  },
  {
   "cell_type": "code",
   "execution_count": null,
   "id": "0ff39b8f",
   "metadata": {},
   "outputs": [],
   "source": []
  },
  {
   "cell_type": "markdown",
   "id": "ca84968d",
   "metadata": {},
   "source": [
    "# Import necessary libraries "
   ]
  },
  {
   "cell_type": "code",
   "execution_count": 1,
   "id": "6ebae6de",
   "metadata": {},
   "outputs": [],
   "source": [
    "# Import necessary libraries \n",
    "\n",
    "import pandas as pd \n",
    "import numpy as np \n",
    "from sklearn.model_selection import train_test_split\n",
    "from tensorflow.keras.preprocessing.text import Tokenizer\n",
    "from tensorflow.keras.preprocessing.sequence import pad_sequences\n",
    "from tensorflow.keras.models import Sequential\n",
    "from tensorflow.keras.layers import Embedding, LSTM, Dense, Dropout  "
   ]
  },
  {
   "cell_type": "code",
   "execution_count": null,
   "id": "5971bfc3",
   "metadata": {},
   "outputs": [],
   "source": []
  },
  {
   "cell_type": "markdown",
   "id": "e54bfb97",
   "metadata": {},
   "source": [
    "# Load your dataset into a DataFrame"
   ]
  },
  {
   "cell_type": "code",
   "execution_count": 2,
   "id": "381b091a",
   "metadata": {},
   "outputs": [
    {
     "data": {
      "text/html": [
       "<div>\n",
       "<style scoped>\n",
       "    .dataframe tbody tr th:only-of-type {\n",
       "        vertical-align: middle;\n",
       "    }\n",
       "\n",
       "    .dataframe tbody tr th {\n",
       "        vertical-align: top;\n",
       "    }\n",
       "\n",
       "    .dataframe thead th {\n",
       "        text-align: right;\n",
       "    }\n",
       "</style>\n",
       "<table border=\"1\" class=\"dataframe\">\n",
       "  <thead>\n",
       "    <tr style=\"text-align: right;\">\n",
       "      <th></th>\n",
       "      <th>flags</th>\n",
       "      <th>utterance</th>\n",
       "      <th>category</th>\n",
       "      <th>intent</th>\n",
       "    </tr>\n",
       "  </thead>\n",
       "  <tbody>\n",
       "    <tr>\n",
       "      <th>0</th>\n",
       "      <td>BILC</td>\n",
       "      <td>I don't have an online account, what do I have...</td>\n",
       "      <td>ACCOUNT</td>\n",
       "      <td>create_account</td>\n",
       "    </tr>\n",
       "    <tr>\n",
       "      <th>1</th>\n",
       "      <td>BILQZ</td>\n",
       "      <td>can you tell me if i can regisger two accounts...</td>\n",
       "      <td>ACCOUNT</td>\n",
       "      <td>create_account</td>\n",
       "    </tr>\n",
       "    <tr>\n",
       "      <th>2</th>\n",
       "      <td>BPLC</td>\n",
       "      <td>I have no online account, open one, please</td>\n",
       "      <td>ACCOUNT</td>\n",
       "      <td>create_account</td>\n",
       "    </tr>\n",
       "    <tr>\n",
       "      <th>3</th>\n",
       "      <td>BIPLD</td>\n",
       "      <td>could you ask an agent how to open an account,...</td>\n",
       "      <td>ACCOUNT</td>\n",
       "      <td>create_account</td>\n",
       "    </tr>\n",
       "    <tr>\n",
       "      <th>4</th>\n",
       "      <td>BLQC</td>\n",
       "      <td>i want an online account, create one</td>\n",
       "      <td>ACCOUNT</td>\n",
       "      <td>create_account</td>\n",
       "    </tr>\n",
       "    <tr>\n",
       "      <th>...</th>\n",
       "      <td>...</td>\n",
       "      <td>...</td>\n",
       "      <td>...</td>\n",
       "      <td>...</td>\n",
       "    </tr>\n",
       "    <tr>\n",
       "      <th>21529</th>\n",
       "      <td>BILQC</td>\n",
       "      <td>i have no shipping address, what do i have to ...</td>\n",
       "      <td>SHIPPING</td>\n",
       "      <td>set_up_shipping_address</td>\n",
       "    </tr>\n",
       "    <tr>\n",
       "      <th>21530</th>\n",
       "      <td>BLQC</td>\n",
       "      <td>I have no shipping address and I want to set o...</td>\n",
       "      <td>SHIPPING</td>\n",
       "      <td>set_up_shipping_address</td>\n",
       "    </tr>\n",
       "    <tr>\n",
       "      <th>21531</th>\n",
       "      <td>BIQC</td>\n",
       "      <td>i want to set up my shipping address, what do ...</td>\n",
       "      <td>SHIPPING</td>\n",
       "      <td>set_up_shipping_address</td>\n",
       "    </tr>\n",
       "    <tr>\n",
       "      <th>21532</th>\n",
       "      <td>BILC</td>\n",
       "      <td>I don't have a shipping address, can you set o...</td>\n",
       "      <td>SHIPPING</td>\n",
       "      <td>set_up_shipping_address</td>\n",
       "    </tr>\n",
       "    <tr>\n",
       "      <th>21533</th>\n",
       "      <td>BQZ</td>\n",
       "      <td>i  wanna set up my shipping address</td>\n",
       "      <td>SHIPPING</td>\n",
       "      <td>set_up_shipping_address</td>\n",
       "    </tr>\n",
       "  </tbody>\n",
       "</table>\n",
       "<p>21534 rows × 4 columns</p>\n",
       "</div>"
      ],
      "text/plain": [
       "       flags                                          utterance  category  \\\n",
       "0       BILC  I don't have an online account, what do I have...   ACCOUNT   \n",
       "1      BILQZ  can you tell me if i can regisger two accounts...   ACCOUNT   \n",
       "2       BPLC         I have no online account, open one, please   ACCOUNT   \n",
       "3      BIPLD  could you ask an agent how to open an account,...   ACCOUNT   \n",
       "4       BLQC               i want an online account, create one   ACCOUNT   \n",
       "...      ...                                                ...       ...   \n",
       "21529  BILQC  i have no shipping address, what do i have to ...  SHIPPING   \n",
       "21530   BLQC  I have no shipping address and I want to set o...  SHIPPING   \n",
       "21531   BIQC  i want to set up my shipping address, what do ...  SHIPPING   \n",
       "21532   BILC  I don't have a shipping address, can you set o...  SHIPPING   \n",
       "21533    BQZ                i  wanna set up my shipping address  SHIPPING   \n",
       "\n",
       "                        intent  \n",
       "0               create_account  \n",
       "1               create_account  \n",
       "2               create_account  \n",
       "3               create_account  \n",
       "4               create_account  \n",
       "...                        ...  \n",
       "21529  set_up_shipping_address  \n",
       "21530  set_up_shipping_address  \n",
       "21531  set_up_shipping_address  \n",
       "21532  set_up_shipping_address  \n",
       "21533  set_up_shipping_address  \n",
       "\n",
       "[21534 rows x 4 columns]"
      ]
     },
     "execution_count": 2,
     "metadata": {},
     "output_type": "execute_result"
    }
   ],
   "source": [
    "# Load your dataset \n",
    "\n",
    "df = pd.read_csv('20000-Utterances-Training-dataset-for-chatbots-virtual-assistant-Bitext-sample/20000-Utterances-Training-dataset-for-chatbots-virtual-assistant-Bitext-sample.csv')\n",
    "df"
   ]
  },
  {
   "cell_type": "code",
   "execution_count": 3,
   "id": "c4b7f740",
   "metadata": {},
   "outputs": [
    {
     "data": {
      "text/html": [
       "<div>\n",
       "<style scoped>\n",
       "    .dataframe tbody tr th:only-of-type {\n",
       "        vertical-align: middle;\n",
       "    }\n",
       "\n",
       "    .dataframe tbody tr th {\n",
       "        vertical-align: top;\n",
       "    }\n",
       "\n",
       "    .dataframe thead th {\n",
       "        text-align: right;\n",
       "    }\n",
       "</style>\n",
       "<table border=\"1\" class=\"dataframe\">\n",
       "  <thead>\n",
       "    <tr style=\"text-align: right;\">\n",
       "      <th></th>\n",
       "      <th>flags</th>\n",
       "      <th>utterance</th>\n",
       "      <th>category</th>\n",
       "      <th>intent</th>\n",
       "    </tr>\n",
       "  </thead>\n",
       "  <tbody>\n",
       "    <tr>\n",
       "      <th>0</th>\n",
       "      <td>BILC</td>\n",
       "      <td>I don't have an online account, what do I have...</td>\n",
       "      <td>ACCOUNT</td>\n",
       "      <td>create_account</td>\n",
       "    </tr>\n",
       "    <tr>\n",
       "      <th>1</th>\n",
       "      <td>BILQZ</td>\n",
       "      <td>can you tell me if i can regisger two accounts...</td>\n",
       "      <td>ACCOUNT</td>\n",
       "      <td>create_account</td>\n",
       "    </tr>\n",
       "    <tr>\n",
       "      <th>2</th>\n",
       "      <td>BPLC</td>\n",
       "      <td>I have no online account, open one, please</td>\n",
       "      <td>ACCOUNT</td>\n",
       "      <td>create_account</td>\n",
       "    </tr>\n",
       "    <tr>\n",
       "      <th>3</th>\n",
       "      <td>BIPLD</td>\n",
       "      <td>could you ask an agent how to open an account,...</td>\n",
       "      <td>ACCOUNT</td>\n",
       "      <td>create_account</td>\n",
       "    </tr>\n",
       "    <tr>\n",
       "      <th>4</th>\n",
       "      <td>BLQC</td>\n",
       "      <td>i want an online account, create one</td>\n",
       "      <td>ACCOUNT</td>\n",
       "      <td>create_account</td>\n",
       "    </tr>\n",
       "  </tbody>\n",
       "</table>\n",
       "</div>"
      ],
      "text/plain": [
       "   flags                                          utterance category  \\\n",
       "0   BILC  I don't have an online account, what do I have...  ACCOUNT   \n",
       "1  BILQZ  can you tell me if i can regisger two accounts...  ACCOUNT   \n",
       "2   BPLC         I have no online account, open one, please  ACCOUNT   \n",
       "3  BIPLD  could you ask an agent how to open an account,...  ACCOUNT   \n",
       "4   BLQC               i want an online account, create one  ACCOUNT   \n",
       "\n",
       "           intent  \n",
       "0  create_account  \n",
       "1  create_account  \n",
       "2  create_account  \n",
       "3  create_account  \n",
       "4  create_account  "
      ]
     },
     "execution_count": 3,
     "metadata": {},
     "output_type": "execute_result"
    }
   ],
   "source": [
    "df.head()"
   ]
  },
  {
   "cell_type": "code",
   "execution_count": null,
   "id": "0ab2e42a",
   "metadata": {},
   "outputs": [],
   "source": []
  },
  {
   "cell_type": "markdown",
   "id": "af2fe599",
   "metadata": {},
   "source": [
    "# Explore and Preprocess the Data"
   ]
  },
  {
   "cell_type": "markdown",
   "id": "68587a17",
   "metadata": {},
   "source": [
    "*First, inspect the dataset to understand its structure.*"
   ]
  },
  {
   "cell_type": "code",
   "execution_count": 4,
   "id": "6a2b3c5e",
   "metadata": {},
   "outputs": [
    {
     "name": "stdout",
     "output_type": "stream",
     "text": [
      "payment_issue               4366\n",
      "create_account              2122\n",
      "contact_customer_service    2055\n",
      "get_invoice                 1430\n",
      "track_order                 1224\n",
      "get_refund                  1150\n",
      "contact_human_agent         1026\n",
      "check_invoices              1013\n",
      "recover_password             986\n",
      "change_order                 926\n",
      "delete_account               913\n",
      "complaint                    746\n",
      "review                       580\n",
      "check_refund_policy          479\n",
      "delivery_options             360\n",
      "check_cancellation_fee       360\n",
      "track_refund                 303\n",
      "switch_account               273\n",
      "check_payment_methods        270\n",
      "newsletter_subscription      236\n",
      "delivery_period              141\n",
      "edit_account                 133\n",
      "registration_problems        130\n",
      "change_shipping_address      110\n",
      "set_up_shipping_address       96\n",
      "place_order                   70\n",
      "cancel_order                  36\n",
      "Name: intent, dtype: int64\n",
      "PAYMENT             4636\n",
      "ACCOUNT             4557\n",
      "CONTACT             3081\n",
      "INVOICES            2443\n",
      "ORDER               2256\n",
      "REFUNDS             1932\n",
      "FEEDBACK            1326\n",
      "DELIVERY             501\n",
      "CANCELLATION_FEE     360\n",
      "NEWSLETTER           236\n",
      "SHIPPING             206\n",
      "Name: category, dtype: int64\n"
     ]
    }
   ],
   "source": [
    "# Explore the data \n",
    "print(df['intent'].value_counts())\n",
    "print(df['category'].value_counts())"
   ]
  },
  {
   "cell_type": "code",
   "execution_count": null,
   "id": "28985900",
   "metadata": {},
   "outputs": [],
   "source": []
  },
  {
   "cell_type": "code",
   "execution_count": 5,
   "id": "79c8a2df",
   "metadata": {},
   "outputs": [
    {
     "name": "stdout",
     "output_type": "stream",
     "text": [
      "['create_account' 'delete_account' 'edit_account' 'recover_password'\n",
      " 'registration_problems' 'switch_account' 'check_cancellation_fee'\n",
      " 'contact_customer_service' 'contact_human_agent' 'delivery_options'\n",
      " 'delivery_period' 'complaint' 'review' 'check_invoices' 'get_invoice'\n",
      " 'newsletter_subscription' 'cancel_order' 'change_order' 'place_order'\n",
      " 'track_order' 'check_payment_methods' 'payment_issue'\n",
      " 'check_refund_policy' 'get_refund' 'track_refund'\n",
      " 'change_shipping_address' 'set_up_shipping_address']\n"
     ]
    }
   ],
   "source": [
    "print(df['intent'].unique())"
   ]
  },
  {
   "cell_type": "code",
   "execution_count": null,
   "id": "bdceb83a",
   "metadata": {},
   "outputs": [],
   "source": []
  },
  {
   "cell_type": "code",
   "execution_count": null,
   "id": "c27653f9",
   "metadata": {},
   "outputs": [],
   "source": []
  },
  {
   "cell_type": "markdown",
   "id": "63f1c7c7",
   "metadata": {},
   "source": [
    "**Clean and preprocess the text data to make it suitable for training. Use tokenization and \n",
    "padding for standardizing input lengths.**"
   ]
  },
  {
   "cell_type": "code",
   "execution_count": null,
   "id": "2239959b",
   "metadata": {},
   "outputs": [],
   "source": []
  },
  {
   "cell_type": "code",
   "execution_count": 6,
   "id": "a1ed3efd",
   "metadata": {},
   "outputs": [],
   "source": [
    "from textblob import Word\n",
    "import nltk \n",
    "# nltk.download('stopwords')\n",
    "from nltk.corpus import stopwords \n",
    "\n",
    "# Remove stopwords and perform basic text cleaning \n",
    "\n",
    "def clean_text(text):\n",
    "    stop_words = set(stopwords.words('english'))\n",
    "    tokens = text.lower().split()\n",
    "    tokens = [word for word in tokens if word.isalpha() and word not in stop_words]\n",
    "    return ' '.join(tokens) \n",
    "\n",
    "df['cleaned_utterance'] = df['utterance'].apply(clean_text)"
   ]
  },
  {
   "cell_type": "code",
   "execution_count": 7,
   "id": "68ea0b01",
   "metadata": {},
   "outputs": [
    {
     "data": {
      "text/html": [
       "<div>\n",
       "<style scoped>\n",
       "    .dataframe tbody tr th:only-of-type {\n",
       "        vertical-align: middle;\n",
       "    }\n",
       "\n",
       "    .dataframe tbody tr th {\n",
       "        vertical-align: top;\n",
       "    }\n",
       "\n",
       "    .dataframe thead th {\n",
       "        text-align: right;\n",
       "    }\n",
       "</style>\n",
       "<table border=\"1\" class=\"dataframe\">\n",
       "  <thead>\n",
       "    <tr style=\"text-align: right;\">\n",
       "      <th></th>\n",
       "      <th>flags</th>\n",
       "      <th>utterance</th>\n",
       "      <th>category</th>\n",
       "      <th>intent</th>\n",
       "      <th>cleaned_utterance</th>\n",
       "    </tr>\n",
       "  </thead>\n",
       "  <tbody>\n",
       "    <tr>\n",
       "      <th>0</th>\n",
       "      <td>BILC</td>\n",
       "      <td>I don't have an online account, what do I have...</td>\n",
       "      <td>ACCOUNT</td>\n",
       "      <td>create_account</td>\n",
       "      <td>online</td>\n",
       "    </tr>\n",
       "    <tr>\n",
       "      <th>1</th>\n",
       "      <td>BILQZ</td>\n",
       "      <td>can you tell me if i can regisger two accounts...</td>\n",
       "      <td>ACCOUNT</td>\n",
       "      <td>create_account</td>\n",
       "      <td>tell regisger two accounts single email</td>\n",
       "    </tr>\n",
       "    <tr>\n",
       "      <th>2</th>\n",
       "      <td>BPLC</td>\n",
       "      <td>I have no online account, open one, please</td>\n",
       "      <td>ACCOUNT</td>\n",
       "      <td>create_account</td>\n",
       "      <td>online open please</td>\n",
       "    </tr>\n",
       "    <tr>\n",
       "      <th>3</th>\n",
       "      <td>BIPLD</td>\n",
       "      <td>could you ask an agent how to open an account,...</td>\n",
       "      <td>ACCOUNT</td>\n",
       "      <td>create_account</td>\n",
       "      <td>could ask agent open</td>\n",
       "    </tr>\n",
       "    <tr>\n",
       "      <th>4</th>\n",
       "      <td>BLQC</td>\n",
       "      <td>i want an online account, create one</td>\n",
       "      <td>ACCOUNT</td>\n",
       "      <td>create_account</td>\n",
       "      <td>want online create one</td>\n",
       "    </tr>\n",
       "  </tbody>\n",
       "</table>\n",
       "</div>"
      ],
      "text/plain": [
       "   flags                                          utterance category  \\\n",
       "0   BILC  I don't have an online account, what do I have...  ACCOUNT   \n",
       "1  BILQZ  can you tell me if i can regisger two accounts...  ACCOUNT   \n",
       "2   BPLC         I have no online account, open one, please  ACCOUNT   \n",
       "3  BIPLD  could you ask an agent how to open an account,...  ACCOUNT   \n",
       "4   BLQC               i want an online account, create one  ACCOUNT   \n",
       "\n",
       "           intent                        cleaned_utterance  \n",
       "0  create_account                                   online  \n",
       "1  create_account  tell regisger two accounts single email  \n",
       "2  create_account                       online open please  \n",
       "3  create_account                     could ask agent open  \n",
       "4  create_account                   want online create one  "
      ]
     },
     "execution_count": 7,
     "metadata": {},
     "output_type": "execute_result"
    }
   ],
   "source": [
    "df.head()"
   ]
  },
  {
   "cell_type": "code",
   "execution_count": null,
   "id": "5096dded",
   "metadata": {},
   "outputs": [],
   "source": []
  },
  {
   "cell_type": "code",
   "execution_count": 8,
   "id": "88ae6028",
   "metadata": {},
   "outputs": [
    {
     "name": "stdout",
     "output_type": "stream",
     "text": [
      "<class 'pandas.core.frame.DataFrame'>\n",
      "RangeIndex: 21534 entries, 0 to 21533\n",
      "Data columns (total 5 columns):\n",
      " #   Column             Non-Null Count  Dtype \n",
      "---  ------             --------------  ----- \n",
      " 0   flags              21534 non-null  object\n",
      " 1   utterance          21534 non-null  object\n",
      " 2   category           21534 non-null  object\n",
      " 3   intent             21534 non-null  object\n",
      " 4   cleaned_utterance  21534 non-null  object\n",
      "dtypes: object(5)\n",
      "memory usage: 841.3+ KB\n"
     ]
    }
   ],
   "source": [
    "# checking data tyypes of features \n",
    "df.info()"
   ]
  },
  {
   "cell_type": "code",
   "execution_count": null,
   "id": "fcdb51df",
   "metadata": {},
   "outputs": [],
   "source": []
  },
  {
   "cell_type": "markdown",
   "id": "5535d222",
   "metadata": {},
   "source": [
    "#  Encode Labels and Prepare Data for Training"
   ]
  },
  {
   "cell_type": "markdown",
   "id": "7d83352a",
   "metadata": {},
   "source": [
    "*Convert intent labels into numerical categories, which the model will learn to classify.*"
   ]
  },
  {
   "cell_type": "code",
   "execution_count": 9,
   "id": "30e01d6f",
   "metadata": {},
   "outputs": [],
   "source": [
    "from sklearn.preprocessing import LabelEncoder\n",
    "\n",
    "# Encode intent labels \n",
    "le = LabelEncoder()\n",
    "df['intent_encoded'] = le.fit_transform(df['intent'])"
   ]
  },
  {
   "cell_type": "code",
   "execution_count": null,
   "id": "7539879d",
   "metadata": {},
   "outputs": [],
   "source": []
  },
  {
   "cell_type": "code",
   "execution_count": 10,
   "id": "5af6a559",
   "metadata": {},
   "outputs": [
    {
     "data": {
      "text/html": [
       "<div>\n",
       "<style scoped>\n",
       "    .dataframe tbody tr th:only-of-type {\n",
       "        vertical-align: middle;\n",
       "    }\n",
       "\n",
       "    .dataframe tbody tr th {\n",
       "        vertical-align: top;\n",
       "    }\n",
       "\n",
       "    .dataframe thead th {\n",
       "        text-align: right;\n",
       "    }\n",
       "</style>\n",
       "<table border=\"1\" class=\"dataframe\">\n",
       "  <thead>\n",
       "    <tr style=\"text-align: right;\">\n",
       "      <th></th>\n",
       "      <th>flags</th>\n",
       "      <th>utterance</th>\n",
       "      <th>category</th>\n",
       "      <th>intent</th>\n",
       "      <th>cleaned_utterance</th>\n",
       "      <th>intent_encoded</th>\n",
       "    </tr>\n",
       "  </thead>\n",
       "  <tbody>\n",
       "    <tr>\n",
       "      <th>0</th>\n",
       "      <td>BILC</td>\n",
       "      <td>I don't have an online account, what do I have...</td>\n",
       "      <td>ACCOUNT</td>\n",
       "      <td>create_account</td>\n",
       "      <td>online</td>\n",
       "      <td>10</td>\n",
       "    </tr>\n",
       "    <tr>\n",
       "      <th>1</th>\n",
       "      <td>BILQZ</td>\n",
       "      <td>can you tell me if i can regisger two accounts...</td>\n",
       "      <td>ACCOUNT</td>\n",
       "      <td>create_account</td>\n",
       "      <td>tell regisger two accounts single email</td>\n",
       "      <td>10</td>\n",
       "    </tr>\n",
       "    <tr>\n",
       "      <th>2</th>\n",
       "      <td>BPLC</td>\n",
       "      <td>I have no online account, open one, please</td>\n",
       "      <td>ACCOUNT</td>\n",
       "      <td>create_account</td>\n",
       "      <td>online open please</td>\n",
       "      <td>10</td>\n",
       "    </tr>\n",
       "    <tr>\n",
       "      <th>3</th>\n",
       "      <td>BIPLD</td>\n",
       "      <td>could you ask an agent how to open an account,...</td>\n",
       "      <td>ACCOUNT</td>\n",
       "      <td>create_account</td>\n",
       "      <td>could ask agent open</td>\n",
       "      <td>10</td>\n",
       "    </tr>\n",
       "    <tr>\n",
       "      <th>4</th>\n",
       "      <td>BLQC</td>\n",
       "      <td>i want an online account, create one</td>\n",
       "      <td>ACCOUNT</td>\n",
       "      <td>create_account</td>\n",
       "      <td>want online create one</td>\n",
       "      <td>10</td>\n",
       "    </tr>\n",
       "    <tr>\n",
       "      <th>...</th>\n",
       "      <td>...</td>\n",
       "      <td>...</td>\n",
       "      <td>...</td>\n",
       "      <td>...</td>\n",
       "      <td>...</td>\n",
       "      <td>...</td>\n",
       "    </tr>\n",
       "    <tr>\n",
       "      <th>21529</th>\n",
       "      <td>BILQC</td>\n",
       "      <td>i have no shipping address, what do i have to ...</td>\n",
       "      <td>SHIPPING</td>\n",
       "      <td>set_up_shipping_address</td>\n",
       "      <td>shipping set</td>\n",
       "      <td>23</td>\n",
       "    </tr>\n",
       "    <tr>\n",
       "      <th>21530</th>\n",
       "      <td>BLQC</td>\n",
       "      <td>I have no shipping address and I want to set o...</td>\n",
       "      <td>SHIPPING</td>\n",
       "      <td>set_up_shipping_address</td>\n",
       "      <td>shipping address want set one</td>\n",
       "      <td>23</td>\n",
       "    </tr>\n",
       "    <tr>\n",
       "      <th>21531</th>\n",
       "      <td>BIQC</td>\n",
       "      <td>i want to set up my shipping address, what do ...</td>\n",
       "      <td>SHIPPING</td>\n",
       "      <td>set_up_shipping_address</td>\n",
       "      <td>want set shipping</td>\n",
       "      <td>23</td>\n",
       "    </tr>\n",
       "    <tr>\n",
       "      <th>21532</th>\n",
       "      <td>BILC</td>\n",
       "      <td>I don't have a shipping address, can you set o...</td>\n",
       "      <td>SHIPPING</td>\n",
       "      <td>set_up_shipping_address</td>\n",
       "      <td>shipping set one</td>\n",
       "      <td>23</td>\n",
       "    </tr>\n",
       "    <tr>\n",
       "      <th>21533</th>\n",
       "      <td>BQZ</td>\n",
       "      <td>i  wanna set up my shipping address</td>\n",
       "      <td>SHIPPING</td>\n",
       "      <td>set_up_shipping_address</td>\n",
       "      <td>wanna set shipping address</td>\n",
       "      <td>23</td>\n",
       "    </tr>\n",
       "  </tbody>\n",
       "</table>\n",
       "<p>21534 rows × 6 columns</p>\n",
       "</div>"
      ],
      "text/plain": [
       "       flags                                          utterance  category  \\\n",
       "0       BILC  I don't have an online account, what do I have...   ACCOUNT   \n",
       "1      BILQZ  can you tell me if i can regisger two accounts...   ACCOUNT   \n",
       "2       BPLC         I have no online account, open one, please   ACCOUNT   \n",
       "3      BIPLD  could you ask an agent how to open an account,...   ACCOUNT   \n",
       "4       BLQC               i want an online account, create one   ACCOUNT   \n",
       "...      ...                                                ...       ...   \n",
       "21529  BILQC  i have no shipping address, what do i have to ...  SHIPPING   \n",
       "21530   BLQC  I have no shipping address and I want to set o...  SHIPPING   \n",
       "21531   BIQC  i want to set up my shipping address, what do ...  SHIPPING   \n",
       "21532   BILC  I don't have a shipping address, can you set o...  SHIPPING   \n",
       "21533    BQZ                i  wanna set up my shipping address  SHIPPING   \n",
       "\n",
       "                        intent                        cleaned_utterance  \\\n",
       "0               create_account                                   online   \n",
       "1               create_account  tell regisger two accounts single email   \n",
       "2               create_account                       online open please   \n",
       "3               create_account                     could ask agent open   \n",
       "4               create_account                   want online create one   \n",
       "...                        ...                                      ...   \n",
       "21529  set_up_shipping_address                             shipping set   \n",
       "21530  set_up_shipping_address            shipping address want set one   \n",
       "21531  set_up_shipping_address                        want set shipping   \n",
       "21532  set_up_shipping_address                         shipping set one   \n",
       "21533  set_up_shipping_address               wanna set shipping address   \n",
       "\n",
       "       intent_encoded  \n",
       "0                  10  \n",
       "1                  10  \n",
       "2                  10  \n",
       "3                  10  \n",
       "4                  10  \n",
       "...               ...  \n",
       "21529              23  \n",
       "21530              23  \n",
       "21531              23  \n",
       "21532              23  \n",
       "21533              23  \n",
       "\n",
       "[21534 rows x 6 columns]"
      ]
     },
     "execution_count": 10,
     "metadata": {},
     "output_type": "execute_result"
    }
   ],
   "source": [
    "df"
   ]
  },
  {
   "cell_type": "code",
   "execution_count": 11,
   "id": "e9012813",
   "metadata": {},
   "outputs": [
    {
     "data": {
      "text/plain": [
       "18    4366\n",
       "10    2122\n",
       "8     2055\n",
       "15    1430\n",
       "25    1224\n",
       "16    1150\n",
       "9     1026\n",
       "4     1013\n",
       "20     986\n",
       "1      926\n",
       "11     913\n",
       "7      746\n",
       "22     580\n",
       "6      479\n",
       "12     360\n",
       "3      360\n",
       "26     303\n",
       "24     273\n",
       "5      270\n",
       "17     236\n",
       "13     141\n",
       "14     133\n",
       "21     130\n",
       "2      110\n",
       "23      96\n",
       "19      70\n",
       "0       36\n",
       "Name: intent_encoded, dtype: int64"
      ]
     },
     "execution_count": 11,
     "metadata": {},
     "output_type": "execute_result"
    }
   ],
   "source": [
    "df['intent_encoded'].value_counts()"
   ]
  },
  {
   "cell_type": "code",
   "execution_count": null,
   "id": "279b8bd9",
   "metadata": {},
   "outputs": [],
   "source": []
  },
  {
   "cell_type": "code",
   "execution_count": null,
   "id": "99ca5ae4",
   "metadata": {},
   "outputs": [],
   "source": []
  },
  {
   "cell_type": "markdown",
   "id": "c70343b8",
   "metadata": {},
   "source": [
    "# Tokenize and pad the text data."
   ]
  },
  {
   "cell_type": "code",
   "execution_count": 12,
   "id": "d2971671",
   "metadata": {},
   "outputs": [],
   "source": [
    "tokenizer = Tokenizer(num_words=5000, oov_token='<OO>')\n",
    "tokenizer.fit_on_texts(df['cleaned_utterance'])\n",
    "\n",
    "X = tokenizer.texts_to_sequences(df['cleaned_utterance'])\n",
    "X = pad_sequences(X, padding='post')\n",
    "y = df['intent_encoded'].values"
   ]
  },
  {
   "cell_type": "code",
   "execution_count": null,
   "id": "0ee83dcc",
   "metadata": {},
   "outputs": [],
   "source": []
  },
  {
   "cell_type": "code",
   "execution_count": 20,
   "id": "a3913507",
   "metadata": {},
   "outputs": [
    {
     "name": "stdout",
     "output_type": "stream",
     "text": [
      "<class 'pandas.core.frame.DataFrame'>\n",
      "RangeIndex: 21534 entries, 0 to 21533\n",
      "Data columns (total 6 columns):\n",
      " #   Column             Non-Null Count  Dtype \n",
      "---  ------             --------------  ----- \n",
      " 0   flags              21534 non-null  object\n",
      " 1   utterance          21534 non-null  object\n",
      " 2   category           21534 non-null  object\n",
      " 3   intent             21534 non-null  object\n",
      " 4   cleaned_utterance  21534 non-null  object\n",
      " 5   intent_encoded     21534 non-null  int32 \n",
      "dtypes: int32(1), object(5)\n",
      "memory usage: 925.4+ KB\n"
     ]
    }
   ],
   "source": [
    "df.info()"
   ]
  },
  {
   "cell_type": "code",
   "execution_count": null,
   "id": "3919b79e",
   "metadata": {},
   "outputs": [],
   "source": []
  },
  {
   "cell_type": "markdown",
   "id": "2a1e7f40",
   "metadata": {},
   "source": [
    "# Train-Test Split"
   ]
  },
  {
   "cell_type": "markdown",
   "id": "7c5dfd6d",
   "metadata": {},
   "source": [
    "*Divide your data into training and testing sets.*"
   ]
  },
  {
   "cell_type": "code",
   "execution_count": 13,
   "id": "64000ed0",
   "metadata": {},
   "outputs": [],
   "source": [
    "X_train, X_test, y_train, y_test = train_test_split(X, y, test_size=0.2, random_state=42)"
   ]
  },
  {
   "cell_type": "code",
   "execution_count": null,
   "id": "21ea6c0e",
   "metadata": {},
   "outputs": [],
   "source": []
  },
  {
   "cell_type": "markdown",
   "id": "1e4dc8c6",
   "metadata": {},
   "source": [
    "# Build the LSTM Model"
   ]
  },
  {
   "cell_type": "code",
   "execution_count": 14,
   "id": "625cf25a",
   "metadata": {},
   "outputs": [
    {
     "name": "stderr",
     "output_type": "stream",
     "text": [
      "C:\\Users\\cyril\\anaconda3\\Lib\\site-packages\\keras\\src\\layers\\core\\embedding.py:90: UserWarning: Argument `input_length` is deprecated. Just remove it.\n",
      "  warnings.warn(\n"
     ]
    }
   ],
   "source": [
    "model = Sequential([\n",
    "    Embedding(input_dim=5000, output_dim=64, input_length=X.shape[1]),\n",
    "    LSTM(64, return_sequences=True),\n",
    "    Dropout(0.2),\n",
    "    LSTM(32),\n",
    "    Dense(32, activation='relu'),\n",
    "    Dropout(0.2),\n",
    "    Dense(len(le.classes_), activation='softmax')\n",
    "])\n",
    "\n",
    "model.compile(optimizer='adam', loss='sparse_categorical_crossentropy', metrics=['accuracy'])"
   ]
  },
  {
   "cell_type": "code",
   "execution_count": null,
   "id": "53a0ce54",
   "metadata": {},
   "outputs": [],
   "source": []
  },
  {
   "cell_type": "markdown",
   "id": "d0d3339d",
   "metadata": {},
   "source": [
    "# Train the Model"
   ]
  },
  {
   "cell_type": "markdown",
   "id": "999bf59a",
   "metadata": {},
   "source": [
    "*Train the model on your training data.*"
   ]
  },
  {
   "cell_type": "code",
   "execution_count": 15,
   "id": "8c45ed6c",
   "metadata": {},
   "outputs": [
    {
     "name": "stdout",
     "output_type": "stream",
     "text": [
      "Epoch 1/10\n",
      "\u001b[1m539/539\u001b[0m \u001b[32m━━━━━━━━━━━━━━━━━━━━\u001b[0m\u001b[37m\u001b[0m \u001b[1m7s\u001b[0m 9ms/step - accuracy: 0.3260 - loss: 2.3431 - val_accuracy: 0.7681 - val_loss: 0.8044\n",
      "Epoch 2/10\n",
      "\u001b[1m539/539\u001b[0m \u001b[32m━━━━━━━━━━━━━━━━━━━━\u001b[0m\u001b[37m\u001b[0m \u001b[1m4s\u001b[0m 8ms/step - accuracy: 0.7877 - loss: 0.7439 - val_accuracy: 0.8560 - val_loss: 0.4926\n",
      "Epoch 3/10\n",
      "\u001b[1m539/539\u001b[0m \u001b[32m━━━━━━━━━━━━━━━━━━━━\u001b[0m\u001b[37m\u001b[0m \u001b[1m5s\u001b[0m 8ms/step - accuracy: 0.8698 - loss: 0.4551 - val_accuracy: 0.8825 - val_loss: 0.3644\n",
      "Epoch 4/10\n",
      "\u001b[1m539/539\u001b[0m \u001b[32m━━━━━━━━━━━━━━━━━━━━\u001b[0m\u001b[37m\u001b[0m \u001b[1m4s\u001b[0m 8ms/step - accuracy: 0.9053 - loss: 0.3195 - val_accuracy: 0.9113 - val_loss: 0.3142\n",
      "Epoch 5/10\n",
      "\u001b[1m539/539\u001b[0m \u001b[32m━━━━━━━━━━━━━━━━━━━━\u001b[0m\u001b[37m\u001b[0m \u001b[1m4s\u001b[0m 8ms/step - accuracy: 0.9287 - loss: 0.2413 - val_accuracy: 0.9234 - val_loss: 0.2355\n",
      "Epoch 6/10\n",
      "\u001b[1m539/539\u001b[0m \u001b[32m━━━━━━━━━━━━━━━━━━━━\u001b[0m\u001b[37m\u001b[0m \u001b[1m4s\u001b[0m 8ms/step - accuracy: 0.9343 - loss: 0.2084 - val_accuracy: 0.9280 - val_loss: 0.2352\n",
      "Epoch 7/10\n",
      "\u001b[1m539/539\u001b[0m \u001b[32m━━━━━━━━━━━━━━━━━━━━\u001b[0m\u001b[37m\u001b[0m \u001b[1m4s\u001b[0m 8ms/step - accuracy: 0.9466 - loss: 0.1805 - val_accuracy: 0.9338 - val_loss: 0.2174\n",
      "Epoch 8/10\n",
      "\u001b[1m539/539\u001b[0m \u001b[32m━━━━━━━━━━━━━━━━━━━━\u001b[0m\u001b[37m\u001b[0m \u001b[1m5s\u001b[0m 8ms/step - accuracy: 0.9476 - loss: 0.1540 - val_accuracy: 0.9343 - val_loss: 0.2101\n",
      "Epoch 9/10\n",
      "\u001b[1m539/539\u001b[0m \u001b[32m━━━━━━━━━━━━━━━━━━━━\u001b[0m\u001b[37m\u001b[0m \u001b[1m4s\u001b[0m 8ms/step - accuracy: 0.9491 - loss: 0.1488 - val_accuracy: 0.9359 - val_loss: 0.2205\n",
      "Epoch 10/10\n",
      "\u001b[1m539/539\u001b[0m \u001b[32m━━━━━━━━━━━━━━━━━━━━\u001b[0m\u001b[37m\u001b[0m \u001b[1m4s\u001b[0m 8ms/step - accuracy: 0.9502 - loss: 0.1518 - val_accuracy: 0.9392 - val_loss: 0.1982\n"
     ]
    }
   ],
   "source": [
    "history = model.fit(X_train, y_train, epochs=10, batch_size=32, validation_data=(X_test, y_test))"
   ]
  },
  {
   "cell_type": "code",
   "execution_count": null,
   "id": "0ca74d8e",
   "metadata": {},
   "outputs": [],
   "source": []
  },
  {
   "cell_type": "code",
   "execution_count": 16,
   "id": "59e2939e",
   "metadata": {},
   "outputs": [
    {
     "data": {
      "text/plain": [
       "array([[   5,    3,   22, ...,    0,    0,    0],\n",
       "       [   7,    8,    5, ...,    0,    0,    0],\n",
       "       [   2,  100,    0, ...,    0,    0,    0],\n",
       "       ...,\n",
       "       [   9,   30,   35, ...,    0,    0,    0],\n",
       "       [ 172,   14,   21, ...,    0,    0,    0],\n",
       "       [1390,  103,   99, ...,    0,    0,    0]])"
      ]
     },
     "execution_count": 16,
     "metadata": {},
     "output_type": "execute_result"
    }
   ],
   "source": [
    "X_train"
   ]
  },
  {
   "cell_type": "code",
   "execution_count": 17,
   "id": "214026f7",
   "metadata": {},
   "outputs": [
    {
     "data": {
      "text/plain": [
       "array([18, 15, 11, ...,  8, 10, 18])"
      ]
     },
     "execution_count": 17,
     "metadata": {},
     "output_type": "execute_result"
    }
   ],
   "source": [
    "y_train"
   ]
  },
  {
   "cell_type": "code",
   "execution_count": 18,
   "id": "e003758d",
   "metadata": {},
   "outputs": [
    {
     "data": {
      "text/plain": [
       "array([[ 19,  38,  15, ...,   0,   0,   0],\n",
       "       [  8,  42,  31, ...,   0,   0,   0],\n",
       "       [319, 183,   0, ...,   0,   0,   0],\n",
       "       ...,\n",
       "       [  2,  16,  77, ...,   0,   0,   0],\n",
       "       [  6,  58,  92, ...,   0,   0,   0],\n",
       "       [  5,   3,  16, ...,   0,   0,   0]])"
      ]
     },
     "execution_count": 18,
     "metadata": {},
     "output_type": "execute_result"
    }
   ],
   "source": [
    "X_test "
   ]
  },
  {
   "cell_type": "code",
   "execution_count": 19,
   "id": "29ed7f45",
   "metadata": {},
   "outputs": [
    {
     "data": {
      "text/plain": [
       "array([18,  8, 25, ...,  6, 10, 25])"
      ]
     },
     "execution_count": 19,
     "metadata": {},
     "output_type": "execute_result"
    }
   ],
   "source": [
    "y_test  "
   ]
  },
  {
   "cell_type": "code",
   "execution_count": null,
   "id": "d81fd82f",
   "metadata": {},
   "outputs": [],
   "source": []
  },
  {
   "cell_type": "code",
   "execution_count": null,
   "id": "b8da993c",
   "metadata": {},
   "outputs": [],
   "source": []
  },
  {
   "cell_type": "markdown",
   "id": "fd7f7e93",
   "metadata": {},
   "source": [
    "# Evaluate the Model"
   ]
  },
  {
   "cell_type": "markdown",
   "id": "1c95861a",
   "metadata": {},
   "source": [
    "*Assess the model’s performance using the test set.*"
   ]
  },
  {
   "cell_type": "code",
   "execution_count": 21,
   "id": "f2e99613",
   "metadata": {},
   "outputs": [
    {
     "name": "stdout",
     "output_type": "stream",
     "text": [
      "\u001b[1m135/135\u001b[0m \u001b[32m━━━━━━━━━━━━━━━━━━━━\u001b[0m\u001b[37m\u001b[0m \u001b[1m0s\u001b[0m 3ms/step - accuracy: 0.9418 - loss: 0.1846\n",
      "Test Accuracy: 0.94\n"
     ]
    }
   ],
   "source": [
    "test_loss, test_accuracy = model.evaluate(X_test, y_test)\n",
    "print(f'Test Accuracy: {test_accuracy:.2f}')"
   ]
  },
  {
   "cell_type": "code",
   "execution_count": null,
   "id": "abac69eb",
   "metadata": {},
   "outputs": [],
   "source": []
  },
  {
   "cell_type": "markdown",
   "id": "a5f58862",
   "metadata": {},
   "source": [
    "# Build a Chat Interface for Testing"
   ]
  },
  {
   "cell_type": "markdown",
   "id": "ed23f849",
   "metadata": {},
   "source": [
    "*Now create a simple function to input a message and receive an intent prediction from the chatbot.*"
   ]
  },
  {
   "cell_type": "code",
   "execution_count": 25,
   "id": "d977996e",
   "metadata": {},
   "outputs": [
    {
     "name": "stdout",
     "output_type": "stream",
     "text": [
      "You:  I made a mistake in my shipping address\n",
      "\u001b[1m1/1\u001b[0m \u001b[32m━━━━━━━━━━━━━━━━━━━━\u001b[0m\u001b[37m\u001b[0m \u001b[1m0s\u001b[0m 226ms/step\n",
      "Chatbot: Detected intent -  change_shipping_address\n",
      "You:   I did not get my order\n",
      "\u001b[1m1/1\u001b[0m \u001b[32m━━━━━━━━━━━━━━━━━━━━\u001b[0m\u001b[37m\u001b[0m \u001b[1m0s\u001b[0m 18ms/step\n",
      "Chatbot: Detected intent -  get_invoice\n"
     ]
    },
    {
     "ename": "KeyboardInterrupt",
     "evalue": "Interrupted by user",
     "output_type": "error",
     "traceback": [
      "\u001b[1;31m---------------------------------------------------------------------------\u001b[0m",
      "\u001b[1;31mKeyboardInterrupt\u001b[0m                         Traceback (most recent call last)",
      "Cell \u001b[1;32mIn[25], line 12\u001b[0m\n\u001b[0;32m     10\u001b[0m \u001b[38;5;66;03m# Test chatbot \u001b[39;00m\n\u001b[0;32m     11\u001b[0m \u001b[38;5;28;01mwhile\u001b[39;00m \u001b[38;5;28;01mTrue\u001b[39;00m: \n\u001b[1;32m---> 12\u001b[0m     message \u001b[38;5;241m=\u001b[39m \u001b[38;5;28minput\u001b[39m(\u001b[38;5;124m\"\u001b[39m\u001b[38;5;124mYou:  \u001b[39m\u001b[38;5;124m\"\u001b[39m)\n\u001b[0;32m     13\u001b[0m     \u001b[38;5;28;01mif\u001b[39;00m message\u001b[38;5;241m.\u001b[39mlower() \u001b[38;5;241m==\u001b[39m\u001b[38;5;124m'\u001b[39m\u001b[38;5;124mquit\u001b[39m\u001b[38;5;124m'\u001b[39m:\n\u001b[0;32m     14\u001b[0m         \u001b[38;5;28;01mbreak\u001b[39;00m\n",
      "File \u001b[1;32m~\\anaconda3\\Lib\\site-packages\\ipykernel\\kernelbase.py:1175\u001b[0m, in \u001b[0;36mKernel.raw_input\u001b[1;34m(self, prompt)\u001b[0m\n\u001b[0;32m   1171\u001b[0m \u001b[38;5;28;01mif\u001b[39;00m \u001b[38;5;129;01mnot\u001b[39;00m \u001b[38;5;28mself\u001b[39m\u001b[38;5;241m.\u001b[39m_allow_stdin:\n\u001b[0;32m   1172\u001b[0m     \u001b[38;5;28;01mraise\u001b[39;00m StdinNotImplementedError(\n\u001b[0;32m   1173\u001b[0m         \u001b[38;5;124m\"\u001b[39m\u001b[38;5;124mraw_input was called, but this frontend does not support input requests.\u001b[39m\u001b[38;5;124m\"\u001b[39m\n\u001b[0;32m   1174\u001b[0m     )\n\u001b[1;32m-> 1175\u001b[0m \u001b[38;5;28;01mreturn\u001b[39;00m \u001b[38;5;28mself\u001b[39m\u001b[38;5;241m.\u001b[39m_input_request(\n\u001b[0;32m   1176\u001b[0m     \u001b[38;5;28mstr\u001b[39m(prompt),\n\u001b[0;32m   1177\u001b[0m     \u001b[38;5;28mself\u001b[39m\u001b[38;5;241m.\u001b[39m_parent_ident[\u001b[38;5;124m\"\u001b[39m\u001b[38;5;124mshell\u001b[39m\u001b[38;5;124m\"\u001b[39m],\n\u001b[0;32m   1178\u001b[0m     \u001b[38;5;28mself\u001b[39m\u001b[38;5;241m.\u001b[39mget_parent(\u001b[38;5;124m\"\u001b[39m\u001b[38;5;124mshell\u001b[39m\u001b[38;5;124m\"\u001b[39m),\n\u001b[0;32m   1179\u001b[0m     password\u001b[38;5;241m=\u001b[39m\u001b[38;5;28;01mFalse\u001b[39;00m,\n\u001b[0;32m   1180\u001b[0m )\n",
      "File \u001b[1;32m~\\anaconda3\\Lib\\site-packages\\ipykernel\\kernelbase.py:1217\u001b[0m, in \u001b[0;36mKernel._input_request\u001b[1;34m(self, prompt, ident, parent, password)\u001b[0m\n\u001b[0;32m   1214\u001b[0m             \u001b[38;5;28;01mbreak\u001b[39;00m\n\u001b[0;32m   1215\u001b[0m \u001b[38;5;28;01mexcept\u001b[39;00m \u001b[38;5;167;01mKeyboardInterrupt\u001b[39;00m:\n\u001b[0;32m   1216\u001b[0m     \u001b[38;5;66;03m# re-raise KeyboardInterrupt, to truncate traceback\u001b[39;00m\n\u001b[1;32m-> 1217\u001b[0m     \u001b[38;5;28;01mraise\u001b[39;00m \u001b[38;5;167;01mKeyboardInterrupt\u001b[39;00m(\u001b[38;5;124m\"\u001b[39m\u001b[38;5;124mInterrupted by user\u001b[39m\u001b[38;5;124m\"\u001b[39m) \u001b[38;5;28;01mfrom\u001b[39;00m \u001b[38;5;28;01mNone\u001b[39;00m\n\u001b[0;32m   1218\u001b[0m \u001b[38;5;28;01mexcept\u001b[39;00m \u001b[38;5;167;01mException\u001b[39;00m:\n\u001b[0;32m   1219\u001b[0m     \u001b[38;5;28mself\u001b[39m\u001b[38;5;241m.\u001b[39mlog\u001b[38;5;241m.\u001b[39mwarning(\u001b[38;5;124m\"\u001b[39m\u001b[38;5;124mInvalid Message:\u001b[39m\u001b[38;5;124m\"\u001b[39m, exc_info\u001b[38;5;241m=\u001b[39m\u001b[38;5;28;01mTrue\u001b[39;00m)\n",
      "\u001b[1;31mKeyboardInterrupt\u001b[0m: Interrupted by user"
     ]
    }
   ],
   "source": [
    "def predict_intent(message):\n",
    "    cleaned_message = clean_text(message)\n",
    "    sequence = tokenizer.texts_to_sequences([cleaned_message])\n",
    "    padded_sequence = pad_sequences(sequence, maxlen=X.shape[1], padding='post')\n",
    "    prediction = model.predict(padded_sequence)\n",
    "    intent_label = le.inverse_transform([np.argmax(prediction)])\n",
    "    return intent_label[0]\n",
    "\n",
    "\n",
    "# Test chatbot \n",
    "while True: \n",
    "    message = input(\"You:  \")\n",
    "    if message.lower() =='quit':\n",
    "        break\n",
    "    intent = predict_intent(message)\n",
    "    print(f\"Chatbot: Detected intent -  {intent}\")"
   ]
  },
  {
   "cell_type": "code",
   "execution_count": null,
   "id": "6cf857e8",
   "metadata": {},
   "outputs": [],
   "source": []
  },
  {
   "cell_type": "code",
   "execution_count": null,
   "id": "ef405109",
   "metadata": {},
   "outputs": [],
   "source": []
  },
  {
   "cell_type": "code",
   "execution_count": null,
   "id": "eac2a81a",
   "metadata": {},
   "outputs": [],
   "source": []
  },
  {
   "cell_type": "code",
   "execution_count": null,
   "id": "758fa7ce",
   "metadata": {},
   "outputs": [],
   "source": [
    "def predict_intent(message):\n",
    "    cleaned_message = clean_text(message)\n",
    "    sequence = tokenizer.texts_to_sequences([cleaned_message])\n",
    "    padded_sequence = pad_sequences(sequence, maxlen=X.shape[1], padding='post')\n",
    "    prediction = model.predict(padded_sequence)\n",
    "    intent_label = le.inverse_transform([np.argmax(prediction)])\n",
    "    return intent_label[0]\n",
    "\n",
    "# Test chatbot\n",
    "while True:\n",
    "    message = input(\"You: \")\n",
    "    if message.lower() == 'quit':\n",
    "        break\n",
    "    intent = predict_intent(message)\n",
    "    print(f\"Chatbot: Detected intent - {intent}\")\n"
   ]
  },
  {
   "cell_type": "code",
   "execution_count": null,
   "id": "2e40c751",
   "metadata": {},
   "outputs": [],
   "source": []
  },
  {
   "cell_type": "code",
   "execution_count": null,
   "id": "3833c031",
   "metadata": {},
   "outputs": [],
   "source": []
  },
  {
   "cell_type": "code",
   "execution_count": null,
   "id": "29db7977",
   "metadata": {},
   "outputs": [],
   "source": []
  }
 ],
 "metadata": {
  "kernelspec": {
   "display_name": "Python 3 (ipykernel)",
   "language": "python",
   "name": "python3"
  },
  "language_info": {
   "codemirror_mode": {
    "name": "ipython",
    "version": 3
   },
   "file_extension": ".py",
   "mimetype": "text/x-python",
   "name": "python",
   "nbconvert_exporter": "python",
   "pygments_lexer": "ipython3",
   "version": "3.11.5"
  }
 },
 "nbformat": 4,
 "nbformat_minor": 5
}
